{
  "nbformat": 4,
  "nbformat_minor": 0,
  "metadata": {
    "colab": {
      "provenance": []
    },
    "kernelspec": {
      "name": "python3",
      "display_name": "Python 3"
    },
    "language_info": {
      "name": "python"
    }
  },
  "cells": [
    {
      "cell_type": "code",
      "execution_count": 29,
      "metadata": {
        "colab": {
          "base_uri": "https://localhost:8080/"
        },
        "id": "xxLfxCKlVwk2",
        "outputId": "2f31b86e-7e9f-42b1-a295-81f7e559d5fa"
      },
      "outputs": [
        {
          "output_type": "stream",
          "name": "stdout",
          "text": [
            "number: 1\n",
            "number: 2\n",
            "Enter the operation (+, -, *, /): +\n",
            "3.0\n"
          ]
        }
      ],
      "source": [
        "number1 = float(input(\"number: \"))\n",
        "number2 = float(input(\"number: \"))\n",
        "operation = input(\"Enter the operation (+, -, *, /): \")\n",
        "if operation == '+':\n",
        "    print(number1 + number2)\n",
        "elif operation == '-':\n",
        "    print(number1 - number2)\n",
        "elif operation == '*':\n",
        "    print(number1 * number2)\n",
        "elif operation == '/':\n",
        "    print(number1 / number2)\n",
        "else:\n",
        "    print(\"invalid\")\n"
      ]
    },
    {
      "cell_type": "code",
      "source": [
        "user_name=input(\"What is your name?\")\n",
        "user_last_name=input(\"What is your last name?\")\n",
        "user_age=input(\"What is your age?\")\n"
      ],
      "metadata": {
        "colab": {
          "base_uri": "https://localhost:8080/"
        },
        "id": "pKvleoTkWg-A",
        "outputId": "0043c9ac-5f33-4f8e-a6f5-9aad3aca1caa"
      },
      "execution_count": 4,
      "outputs": [
        {
          "name": "stdout",
          "output_type": "stream",
          "text": [
            "What is your name?Liping\n",
            "What is your last name?Wang\n",
            "What is your age?20\n"
          ]
        }
      ]
    },
    {
      "cell_type": "code",
      "source": [
        "user_password1=input(\"What is your password?\")\n",
        "user_password2=input(\"repeat your password?\")\n",
        "if user_password1==user_password2:\n",
        "  print(\"ok\")\n",
        "else:\n",
        "  print(\"invalid data\")"
      ],
      "metadata": {
        "colab": {
          "base_uri": "https://localhost:8080/"
        },
        "id": "adwT4iIaZoiW",
        "outputId": "7a79cb11-176b-460c-8756-82a2d4066db5"
      },
      "execution_count": 10,
      "outputs": [
        {
          "output_type": "stream",
          "name": "stdout",
          "text": [
            "What is your password?123456\n",
            "repeat your password?123456\n",
            "ok\n"
          ]
        }
      ]
    },
    {
      "cell_type": "code",
      "source": [
        "user_phone_number=input(\"what is your Phone number?\")\n",
        "user_phone_number.isnumeric\n",
        "len(\"123456789\")\n",
        "if user_phone_number.isdigit():\n",
        "  print(user_phone_number.isdigit())\n",
        "else:\n",
        "   print(\"invalid data\")"
      ],
      "metadata": {
        "colab": {
          "base_uri": "https://localhost:8080/"
        },
        "id": "R5_iUJvEaUCU",
        "outputId": "609b0f44-a26c-47e2-b783-650f6e5edf0e"
      },
      "execution_count": 20,
      "outputs": [
        {
          "output_type": "stream",
          "name": "stdout",
          "text": [
            "what is your Phone number?123456789\n",
            "True\n"
          ]
        }
      ]
    }
  ]
}