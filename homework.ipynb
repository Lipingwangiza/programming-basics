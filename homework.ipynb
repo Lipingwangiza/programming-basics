{
  "nbformat": 4,
  "nbformat_minor": 0,
  "metadata": {
    "colab": {
      "provenance": []
    },
    "kernelspec": {
      "name": "python3",
      "display_name": "Python 3"
    },
    "language_info": {
      "name": "python"
    }
  },
  "cells": [
    {
      "cell_type": "code",
      "execution_count": 1,
      "metadata": {
        "colab": {
          "base_uri": "https://localhost:8080/"
        },
        "id": "v87yoAMdH4vd",
        "outputId": "a186b164-6645-4227-b9c8-4f2c152c8ffd"
      },
      "outputs": [
        {
          "output_type": "stream",
          "name": "stdout",
          "text": [
            "Enter a number: 2\n",
            "The number is even.\n"
          ]
        }
      ],
      "source": [
        "#MEDIUM\n",
        "\n",
        "#1 Check if the user entered an even number.\n",
        "number = int(input(\"Enter a number: \"))\n",
        "\n",
        "if number % 2 == 0:\n",
        "    print(\"The number is even.\")\n",
        "elif number % 2 == 1:\n",
        "    print(\"The number is odd.\")\n",
        "else:\n",
        "    print(\"The number is not even.\")\n"
      ]
    },
    {
      "cell_type": "code",
      "source": [
        "#2 Check if the user has entered an odd number\n",
        "number = int(input(\"Enter a number: \"))\n",
        "\n",
        "if number % 2 == 1:\n",
        "    print(\"The number is odd.\")\n",
        "else:\n",
        "    print(\"The number is not odd.\")"
      ],
      "metadata": {
        "colab": {
          "base_uri": "https://localhost:8080/"
        },
        "id": "U92r6mHHH7cX",
        "outputId": "0847149f-4dc4-44d8-a668-e21a42c64366"
      },
      "execution_count": 2,
      "outputs": [
        {
          "output_type": "stream",
          "name": "stdout",
          "text": [
            "Enter a number: 4\n",
            "The number is not odd.\n"
          ]
        }
      ]
    },
    {
      "cell_type": "code",
      "source": [
        "#3. check if the sum of the two numbers entered by the user is an even number\n",
        "number1 = int(input(\"Enter the first number: \"))\n",
        "number2 = int(input(\"Enter the second number: \"))\n",
        "\n",
        "sum_of_numbers = number1 + number2\n",
        "\n",
        "if sum_of_numbers % 2 == 0:\n",
        "    print(\"The sum of the two numbers is even.\")\n",
        "else:\n",
        "    print(\"The sum of the two numbers is odd.\")"
      ],
      "metadata": {
        "colab": {
          "base_uri": "https://localhost:8080/"
        },
        "id": "65pXvkifH7T8",
        "outputId": "b5e0e753-906f-4b2e-fcd7-b8974b7e447d"
      },
      "execution_count": 3,
      "outputs": [
        {
          "output_type": "stream",
          "name": "stdout",
          "text": [
            "Enter the first number: 9\n",
            "Enter the second number: 4\n",
            "The sum of the two numbers is odd.\n"
          ]
        }
      ]
    },
    {
      "cell_type": "code",
      "source": [
        "#4. Check if the password entered by the user meets the following conditions\n",
        "  # - at least one lowercase and one uppercase letter\n",
        "  # - at least one digit\n",
        "  # - at least one special character\n",
        "  # - at least 3 characters in length\n",
        "  # - a maximum of 18 characters in length\n",
        "password = input(\"Enter a password: \")\n",
        "has_lower = any(char.islower() for char in password)\n",
        "has_upper = any(char.isupper() for char in password)\n",
        "has_digit = any(char.isdigit() for char in password)\n",
        "has_special = any(not char.isalnum() for char in password)\n",
        "is_correct_length = 3 <= len(password) <= 18\n",
        "if has_lower and has_upper and has_digit and has_special and is_correct_length:\n",
        "    print(\"Password meets all conditions.\")\n",
        "else:\n",
        "    print(\"Password does not meet all conditions.\")\n"
      ],
      "metadata": {
        "colab": {
          "base_uri": "https://localhost:8080/"
        },
        "id": "fmiSo6vlH7MY",
        "outputId": "113ae463-6455-4a8f-edab-94b851cdac5f"
      },
      "execution_count": 4,
      "outputs": [
        {
          "output_type": "stream",
          "name": "stdout",
          "text": [
            "Enter a password: 3322421！s\n",
            "Password does not meet all conditions.\n"
          ]
        }
      ]
    },
    {
      "cell_type": "code",
      "source": [],
      "metadata": {
        "id": "yhiXsjY7H67w"
      },
      "execution_count": null,
      "outputs": []
    }
  ]
}