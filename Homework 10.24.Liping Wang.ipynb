{
  "nbformat": 4,
  "nbformat_minor": 0,
  "metadata": {
    "colab": {
      "provenance": []
    },
    "kernelspec": {
      "name": "python3",
      "display_name": "Python 3"
    },
    "language_info": {
      "name": "python"
    }
  },
  "cells": [
    {
      "cell_type": "code",
      "execution_count": null,
      "metadata": {
        "id": "GkiE5pNHtRn5"
      },
      "outputs": [],
      "source": []
    },
    {
      "cell_type": "markdown",
      "source": [
        "# homework"
      ],
      "metadata": {
        "id": "PBL6q1oDfOP_"
      }
    },
    {
      "cell_type": "code",
      "source": [
        "#Create the following list of Strings: [“Patryk”, “Alex”, “Ian”, “Kevin”]\n",
        "name_list=[\"Patryk\", \"Alex\", \"Ian\", \"Kevin\"]"
      ],
      "metadata": {
        "id": "1KR-E6sffRBP"
      },
      "execution_count": null,
      "outputs": []
    },
    {
      "cell_type": "code",
      "source": [
        "#Prints out all values separately\n",
        "for element in name_list:\n",
        "  print(element)"
      ],
      "metadata": {
        "colab": {
          "base_uri": "https://localhost:8080/"
        },
        "id": "iv_V8fLSfqe9",
        "outputId": "e309977d-697e-45ae-e628-0e88221284d0"
      },
      "execution_count": null,
      "outputs": [
        {
          "output_type": "stream",
          "name": "stdout",
          "text": [
            "Patryk\n",
            "Alex\n",
            "Ian\n",
            "Kevin\n"
          ]
        }
      ]
    },
    {
      "cell_type": "code",
      "source": [
        "#Prints out second value (Alex)\n",
        "name_list=[\"Patryk\", \"Alex\", \"Ian\", \"Kevin\"]\n",
        "print(name_list[1])"
      ],
      "metadata": {
        "colab": {
          "base_uri": "https://localhost:8080/"
        },
        "id": "nJx_DKffgN_t",
        "outputId": "4409612c-097c-40b0-9ad3-70274abaa59e"
      },
      "execution_count": null,
      "outputs": [
        {
          "output_type": "stream",
          "name": "stdout",
          "text": [
            "Alex\n"
          ]
        }
      ]
    },
    {
      "cell_type": "code",
      "source": [
        "#Checks the length of a list\n",
        "len(name_list)"
      ],
      "metadata": {
        "colab": {
          "base_uri": "https://localhost:8080/"
        },
        "id": "EsHsXMWriiEA",
        "outputId": "497a4e37-70ff-429e-f49c-d47a8af4d735"
      },
      "execution_count": null,
      "outputs": [
        {
          "output_type": "execute_result",
          "data": {
            "text/plain": [
              "4"
            ]
          },
          "metadata": {},
          "execution_count": 103
        }
      ]
    },
    {
      "cell_type": "code",
      "source": [
        "#Replaces all names with a word “Tomato”\n",
        "name_list=[\"Patryk\", \"Alex\", \"Ian\", \"Kevin\"]\n",
        "name_list = [\"Tomato\" for elements in name_list]\n",
        "print(name_list)"
      ],
      "metadata": {
        "colab": {
          "base_uri": "https://localhost:8080/"
        },
        "id": "Qw7BVmXCipJK",
        "outputId": "7020375c-7740-4191-ca45-b32d0cadc9e8"
      },
      "execution_count": null,
      "outputs": [
        {
          "output_type": "stream",
          "name": "stdout",
          "text": [
            "['Tomato', 'Tomato', 'Tomato', 'Tomato']\n"
          ]
        }
      ]
    },
    {
      "cell_type": "code",
      "source": [
        "#Create the following list of Integers: [2, 4, 8, 12, 1, 67, 31]\n",
        "list_of_integers=[2, 4, 8, 12, 1, 67, 31]"
      ],
      "metadata": {
        "id": "ecRPgwf1pm7K"
      },
      "execution_count": null,
      "outputs": []
    },
    {
      "cell_type": "code",
      "source": [
        "#converts all two-digit numbers into any object of String type\n",
        "converted_list=[str(number) if 10 <= number < 100\n",
        "                else number for number in list_of_integers]\n",
        "print(converted_list)"
      ],
      "metadata": {
        "colab": {
          "base_uri": "https://localhost:8080/"
        },
        "id": "LQ03jafCqDHh",
        "outputId": "570ac14c-a056-4b3c-bd66-d54fdcda4017"
      },
      "execution_count": null,
      "outputs": [
        {
          "output_type": "stream",
          "name": "stdout",
          "text": [
            "[2, 4, 8, '12', 1, '67', '31']\n"
          ]
        }
      ]
    },
    {
      "cell_type": "code",
      "source": [
        "#Prints the lowest value\n",
        "min(list_of_integers)"
      ],
      "metadata": {
        "colab": {
          "base_uri": "https://localhost:8080/"
        },
        "id": "q6ehfRgRqnMU",
        "outputId": "51451a43-0cd9-45fd-82e1-d62410871907"
      },
      "execution_count": null,
      "outputs": [
        {
          "output_type": "execute_result",
          "data": {
            "text/plain": [
              "1"
            ]
          },
          "metadata": {},
          "execution_count": 134
        }
      ]
    },
    {
      "cell_type": "code",
      "source": [
        "sorted_list = sorted(list_of_integers)\n",
        "min_value = sorted_list[0]\n",
        "print(min_value)"
      ],
      "metadata": {
        "colab": {
          "base_uri": "https://localhost:8080/"
        },
        "id": "Z-3DAJZDszgj",
        "outputId": "f7eef522-f0c4-497c-c03c-9d702f983b2a"
      },
      "execution_count": null,
      "outputs": [
        {
          "output_type": "stream",
          "name": "stdout",
          "text": [
            "1\n"
          ]
        }
      ]
    }
  ]
}